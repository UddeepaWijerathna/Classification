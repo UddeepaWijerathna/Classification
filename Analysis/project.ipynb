{
 "cells": [
  {
   "cell_type": "code",
   "execution_count": 1,
   "id": "744db937",
   "metadata": {},
   "outputs": [],
   "source": [
    "import pandas as pd"
   ]
  },
  {
   "cell_type": "code",
   "execution_count": 2,
   "id": "99d07b74",
   "metadata": {},
   "outputs": [],
   "source": [
    "# Load the data from CSV file to pandas dataframe\n",
    "df1 = pd.read_csv('/Users/uddeepawijerathna/Documents/MSc/1st_sem/data_science/analysis_project/1.csv')\n",
    "df2 = pd.read_csv('/Users/uddeepawijerathna/Documents/MSc/1st_sem/data_science/analysis_project/2.csv')"
   ]
  },
  {
   "cell_type": "code",
   "execution_count": 3,
   "id": "9a3076b5",
   "metadata": {},
   "outputs": [
    {
     "data": {
      "text/html": [
       "<div>\n",
       "<style scoped>\n",
       "    .dataframe tbody tr th:only-of-type {\n",
       "        vertical-align: middle;\n",
       "    }\n",
       "\n",
       "    .dataframe tbody tr th {\n",
       "        vertical-align: top;\n",
       "    }\n",
       "\n",
       "    .dataframe thead th {\n",
       "        text-align: right;\n",
       "    }\n",
       "</style>\n",
       "<table border=\"1\" class=\"dataframe\">\n",
       "  <thead>\n",
       "    <tr style=\"text-align: right;\">\n",
       "      <th></th>\n",
       "      <th>session_date</th>\n",
       "      <th>shift_dn</th>\n",
       "      <th>module_id</th>\n",
       "      <th>buyer</th>\n",
       "      <th>style</th>\n",
       "      <th>product_type</th>\n",
       "      <th>issue_name</th>\n",
       "      <th>operation_name</th>\n",
       "      <th>defects</th>\n",
       "      <th>checked_pcs</th>\n",
       "      <th>reworked</th>\n",
       "      <th>ftt</th>\n",
       "    </tr>\n",
       "  </thead>\n",
       "  <tbody>\n",
       "    <tr>\n",
       "      <th>0</th>\n",
       "      <td>2022-12-01</td>\n",
       "      <td>Pagi</td>\n",
       "      <td>Line 02</td>\n",
       "      <td>H&amp;M</td>\n",
       "      <td>6308BN7-B</td>\n",
       "      <td>SHORTS</td>\n",
       "      <td>Benang_panjang / Untrimmed_thread</td>\n",
       "      <td>PASANG BIBIR BOBOK DEPAN + LAPISAN</td>\n",
       "      <td>10</td>\n",
       "      <td>680</td>\n",
       "      <td>26.0</td>\n",
       "      <td>654</td>\n",
       "    </tr>\n",
       "    <tr>\n",
       "      <th>1</th>\n",
       "      <td>2022-12-01</td>\n",
       "      <td>Pagi</td>\n",
       "      <td>Line 02</td>\n",
       "      <td>H&amp;M</td>\n",
       "      <td>6308BN7-B</td>\n",
       "      <td>SHORTS</td>\n",
       "      <td>Jahitan_jarum_2_tidak_rata / Uneven_double_nee...</td>\n",
       "      <td>PASANG PINGGANG + TANDA</td>\n",
       "      <td>8</td>\n",
       "      <td>680</td>\n",
       "      <td>26.0</td>\n",
       "      <td>654</td>\n",
       "    </tr>\n",
       "    <tr>\n",
       "      <th>2</th>\n",
       "      <td>2022-12-01</td>\n",
       "      <td>Pagi</td>\n",
       "      <td>Line 02</td>\n",
       "      <td>H&amp;M</td>\n",
       "      <td>6308BN7-B</td>\n",
       "      <td>SHORTS</td>\n",
       "      <td>Jahitan_jebol / Open_seam</td>\n",
       "      <td>SAMBUNG SAMPING</td>\n",
       "      <td>3</td>\n",
       "      <td>680</td>\n",
       "      <td>26.0</td>\n",
       "      <td>654</td>\n",
       "    </tr>\n",
       "    <tr>\n",
       "      <th>3</th>\n",
       "      <td>2022-12-01</td>\n",
       "      <td>Pagi</td>\n",
       "      <td>Line 02</td>\n",
       "      <td>H&amp;M</td>\n",
       "      <td>6308BN7-B</td>\n",
       "      <td>SHORTS</td>\n",
       "      <td>Jahitan_putus / Broken_stitches</td>\n",
       "      <td>OVERDECK PINGGANG KELILING</td>\n",
       "      <td>3</td>\n",
       "      <td>680</td>\n",
       "      <td>26.0</td>\n",
       "      <td>654</td>\n",
       "    </tr>\n",
       "    <tr>\n",
       "      <th>4</th>\n",
       "      <td>2022-12-01</td>\n",
       "      <td>Pagi</td>\n",
       "      <td>Line 02</td>\n",
       "      <td>H&amp;M</td>\n",
       "      <td>6308BN7-B</td>\n",
       "      <td>SHORTS</td>\n",
       "      <td>Jahitan_loncat / Skip_stitching</td>\n",
       "      <td>OVERDECK UJUNG KAKI</td>\n",
       "      <td>2</td>\n",
       "      <td>680</td>\n",
       "      <td>26.0</td>\n",
       "      <td>654</td>\n",
       "    </tr>\n",
       "  </tbody>\n",
       "</table>\n",
       "</div>"
      ],
      "text/plain": [
       "  session_date shift_dn module_id buyer      style product_type  \\\n",
       "0   2022-12-01     Pagi   Line 02   H&M  6308BN7-B       SHORTS   \n",
       "1   2022-12-01     Pagi   Line 02   H&M  6308BN7-B       SHORTS   \n",
       "2   2022-12-01     Pagi   Line 02   H&M  6308BN7-B       SHORTS   \n",
       "3   2022-12-01     Pagi   Line 02   H&M  6308BN7-B       SHORTS   \n",
       "4   2022-12-01     Pagi   Line 02   H&M  6308BN7-B       SHORTS   \n",
       "\n",
       "                                          issue_name  \\\n",
       "0                  Benang_panjang / Untrimmed_thread   \n",
       "1  Jahitan_jarum_2_tidak_rata / Uneven_double_nee...   \n",
       "2                          Jahitan_jebol / Open_seam   \n",
       "3                    Jahitan_putus / Broken_stitches   \n",
       "4                    Jahitan_loncat / Skip_stitching   \n",
       "\n",
       "                       operation_name  defects  checked_pcs  reworked  ftt  \n",
       "0  PASANG BIBIR BOBOK DEPAN + LAPISAN       10          680      26.0  654  \n",
       "1             PASANG PINGGANG + TANDA        8          680      26.0  654  \n",
       "2                     SAMBUNG SAMPING        3          680      26.0  654  \n",
       "3          OVERDECK PINGGANG KELILING        3          680      26.0  654  \n",
       "4                 OVERDECK UJUNG KAKI        2          680      26.0  654  "
      ]
     },
     "execution_count": 3,
     "metadata": {},
     "output_type": "execute_result"
    }
   ],
   "source": [
    "# Combined two datasets\n",
    "df_combined = pd.concat([df1, df2])\n",
    "\n",
    "# Drop the lines with no value\n",
    "df_combined = df_combined.dropna(subset=['ftt'])\n",
    "# Change type of the ftt and defects column\n",
    "df_combined['ftt'] = df_combined['ftt'].astype(int)\n",
    "\n",
    "df_combined = df_combined.dropna(subset=['defects'])\n",
    "df_combined['defects'] = df_combined['defects'].astype(int)\n",
    "df_combined.head()"
   ]
  },
  {
   "cell_type": "code",
   "execution_count": 4,
   "id": "04ec0c80",
   "metadata": {},
   "outputs": [
    {
     "name": "stdout",
     "output_type": "stream",
     "text": [
      "551009\n",
      "727929\n"
     ]
    }
   ],
   "source": [
    "# Calculate percentage of FTT items without defects\n",
    "# get the unique values of the 'ftt' column and try to sum them up\n",
    "ftt = df_combined['ftt'].sum()\n",
    "checked_pcs = df_combined['checked_pcs'].sum()\n",
    "print(ftt)\n",
    "print(checked_pcs)\n"
   ]
  },
  {
   "cell_type": "code",
   "execution_count": 5,
   "id": "361bc862",
   "metadata": {},
   "outputs": [],
   "source": [
    "# convert session_date column to datetime\n",
    "df_combined['session_date'] = pd.to_datetime(df_combined['session_date'])\n",
    "df_combined['month'] = df_combined['session_date'].dt.strftime('%B')\n",
    "\n",
    "# group by month and module_id(production line)\n",
    "grouped = df_combined.groupby([pd.Grouper(key='session_date', freq='M'), 'module_id', 'month'])\n",
    "\n",
    "# get the first item of each group for checked_pcs\n",
    "first_checked_pcs = grouped['checked_pcs'].first()\n",
    "\n",
    "# get the first item of each group for reworked\n",
    "first_reworked = grouped['reworked'].first()\n",
    "\n",
    "# get the first item of each group for ftt\n",
    "first_ftt = grouped['ftt'].first()"
   ]
  },
  {
   "cell_type": "code",
   "execution_count": 6,
   "id": "751142e6",
   "metadata": {},
   "outputs": [
    {
     "name": "stdout",
     "output_type": "stream",
     "text": [
      "          checked_pcs  reworked   ftt\n",
      "month                                \n",
      "December         3984     104.0  3669\n",
      "January          3779      72.0  2186\n"
     ]
    }
   ],
   "source": [
    "# create a new DataFrame\n",
    "df_new = pd.DataFrame({\n",
    "    'module_id': first_checked_pcs.index.get_level_values(1),\n",
    "    'session_date': first_checked_pcs.index.get_level_values(0),\n",
    "    'checked_pcs': first_checked_pcs.values,\n",
    "    'reworked': first_reworked.values,\n",
    "    'ftt': first_ftt.values,\n",
    "    'month':first_checked_pcs.index.get_level_values(2)\n",
    "})\n",
    "\n",
    "df_new = df_new.groupby(pd.Grouper(key='month')).sum()\n",
    "print(df_new)"
   ]
  },
  {
   "cell_type": "code",
   "execution_count": 7,
   "id": "73004658",
   "metadata": {},
   "outputs": [
    {
     "data": {
      "image/png": "[encoded data removed]",
      "text/plain": [
       "<Figure size 800x600 with 1 Axes>"
      ]
     },
     "metadata": {},
     "output_type": "display_data"
    }
   ],
   "source": [
    "import matplotlib.pyplot as plt\n",
    "\n",
    "# plot FTT and Reworked as columns\n",
    "ax = df_new[['ftt', 'reworked']].plot(kind='bar', stacked=True, figsize=(8, 6))\n",
    "ax.set_xlabel('Month')\n",
    "ax.set_ylabel('Count')\n",
    "ax.set_title('FTT and Reworked for December 2022 and January 2023')\n",
    "plt.show()"
   ]
  },
  {
   "cell_type": "code",
   "execution_count": 8,
   "id": "08ba3afc",
   "metadata": {},
   "outputs": [
    {
     "name": "stdout",
     "output_type": "stream",
     "text": [
      "          checked_pcs  reworked   ftt  ftt_percentage\n",
      "month                                                \n",
      "December         3984     104.0  3669       92.093373\n",
      "January          3779      72.0  2186       57.845991\n"
     ]
    }
   ],
   "source": [
    "# Calculate ftt (without defects) percentage for a month\n",
    "\n",
    "df_new['ftt_percentage'] = df_new['ftt'] / df_new['checked_pcs'] * 100\n",
    "print(df_new)"
   ]
  },
  {
   "cell_type": "code",
   "execution_count": 9,
   "id": "277ff128",
   "metadata": {},
   "outputs": [
    {
     "name": "stdout",
     "output_type": "stream",
     "text": [
      "          checked_pcs  reworked   ftt  ftt_percentage  reworked_percentage\n",
      "month                                                                     \n",
      "December         3984     104.0  3669       92.093373             2.610442\n",
      "January          3779      72.0  2186       57.845991             1.905266\n"
     ]
    }
   ],
   "source": [
    "# Calculate reworked percentage for a month\n",
    "df_new['reworked_percentage'] = df_new['reworked'] / df_new['checked_pcs'] * 100\n",
    "print(df_new)"
   ]
  },
  {
   "cell_type": "code",
   "execution_count": 10,
   "id": "1781135b",
   "metadata": {},
   "outputs": [
    {
     "name": "stdout",
     "output_type": "stream",
     "text": [
      "        month                 operation_name  defects\n",
      "511  December                SAMBUNG SMAPING       25\n",
      "143  December        PASANG PINGGANG + TANDA       15\n",
      "198  December        PASANG PINGGANG + TANDA       15\n",
      "256  December        PASANG PINGGANG + TANDA       15\n",
      "329  December        PASANG PINGGANG + TANDA       15\n",
      "..        ...                            ...      ...\n",
      "470   January  PASANG KARET PINGGANG + TANDA        1\n",
      "471   January               OVERDECK SAMPING        1\n",
      "472   January  PASANG KARET PINGGANG + TANDA        1\n",
      "473   January           PASANG BOBOK SAMPING        1\n",
      "474   January                SAMBUNG SAMPING        1\n",
      "\n",
      "[1066 rows x 3 columns]\n"
     ]
    }
   ],
   "source": [
    "# Identify the difficult operations on a garment that causes lot of defects.\n",
    "\n",
    "# convert session_date column to datetime\n",
    "df_combined['session_date'] = pd.to_datetime(df_combined['session_date'])\n",
    "df_combined['month'] = df_combined['session_date'].dt.strftime('%B')\n",
    "\n",
    "# group by month and module_id(production line)\n",
    "grouped = df_combined.groupby([pd.Grouper(key='session_date', freq='M'), 'module_id'])\n",
    "\n",
    "# Create a new DataFrame by applying an anonymous function that returns the original DataFrame\n",
    "df_new = grouped.apply(lambda x: x[['month', 'operation_name', 'defects']])\n",
    "df_new = df_new.sort_values(['month', 'defects'], ascending=[True, False])\n",
    "print(df_new)\n"
   ]
  },
  {
   "cell_type": "code",
   "execution_count": 11,
   "id": "c85d9283",
   "metadata": {},
   "outputs": [
    {
     "name": "stdout",
     "output_type": "stream",
     "text": [
      "        month shift_dn                 operation_name  defects\n",
      "511  December     Pagi                SAMBUNG SMAPING       25\n",
      "452  December     Pagi             TINDIK BOBOK DEPAN       15\n",
      "482  December     Pagi                SAMBUNG SMAPING       15\n",
      "548  December     Pagi                SAMBUNG SMAPING       15\n",
      "586  December     Pagi                SAMBUNG SMAPING       15\n",
      "..        ...      ...                            ...      ...\n",
      "470   January     Pagi  PASANG KARET PINGGANG + TANDA        1\n",
      "471   January     Pagi               OVERDECK SAMPING        1\n",
      "472   January     Pagi  PASANG KARET PINGGANG + TANDA        1\n",
      "473   January     Pagi           PASANG BOBOK SAMPING        1\n",
      "474   January     Pagi                SAMBUNG SAMPING        1\n",
      "\n",
      "[1066 rows x 4 columns]\n"
     ]
    }
   ],
   "source": [
    "# Identify the shift time when lot of defects are generated.\n",
    "# convert session_date column to datetime\n",
    "df_combined['session_date'] = pd.to_datetime(df_combined['session_date'])\n",
    "df_combined['month'] = df_combined['session_date'].dt.strftime('%B')\n",
    "\n",
    "# group by month and module_id(production line)\n",
    "grouped = df_combined.groupby([pd.Grouper(key='session_date', freq='M'), 'module_id'])\n",
    "\n",
    "# Create a new DataFrame by applying an anonymous function that returns the original DataFrame\n",
    "df_new = grouped.apply(lambda x: x[['month', 'shift_dn','operation_name', 'defects']])\n",
    "df_new = df_new.sort_values(['month', 'shift_dn','defects'], ascending=[True, True,False])\n",
    "print(df_new)"
   ]
  },
  {
   "cell_type": "code",
   "execution_count": 12,
   "id": "06fd4c22",
   "metadata": {},
   "outputs": [
    {
     "name": "stdout",
     "output_type": "stream",
     "text": [
      "  session_date     month shift_dn  defects\n",
      "0   2022-12-31  December     Pagi     1271\n",
      "1   2022-12-31  December    Siang      594\n",
      "2   2023-01-31   January     Pagi     1196\n"
     ]
    }
   ],
   "source": [
    "# convert session_date column to datetime\n",
    "df_combined['session_date'] = pd.to_datetime(df_combined['session_date'])\n",
    "df_combined['month'] = df_combined['session_date'].dt.strftime('%B')\n",
    "\n",
    "# group by month and module_id(production line)\n",
    "grouped = df_combined.groupby([pd.Grouper(key='session_date', freq='M'), 'month','shift_dn'])\n",
    "\n",
    "df_new = grouped['defects'].sum().reset_index()\n",
    "\n",
    "print(df_new)\n"
   ]
  },
  {
   "cell_type": "code",
   "execution_count": 13,
   "id": "378c10fc",
   "metadata": {},
   "outputs": [
    {
     "data": {
      "image/png": "[encoded data removed]",
      "text/plain": [
       "<Figure size 640x480 with 1 Axes>"
      ]
     },
     "metadata": {},
     "output_type": "display_data"
    },
    {
     "data": {
      "image/png": "[encoded data removed]",
      "text/plain": [
       "<Figure size 640x480 with 1 Axes>"
      ]
     },
     "metadata": {},
     "output_type": "display_data"
    }
   ],
   "source": [
    "import matplotlib.pyplot as plt\n",
    "\n",
    "# create a list of the unique months in the data\n",
    "months = ['December', 'January']\n",
    "# create a bar chart for each month\n",
    "for month in months:   \n",
    "\n",
    "    result1 = df_new.loc[(df_new['month'] == month) & (df_new['shift_dn'] == 'Pagi')]['defects']\n",
    "    if result1.empty:\n",
    "        pagi_defects=0\n",
    "    else:\n",
    "        pagi_defects = result1.values[0]\n",
    "\n",
    "    result2 = df_new.loc[(df_new['month'] == month) & (df_new['shift_dn'] == 'Siang')]['defects']\n",
    "    if result2.empty:\n",
    "        siang_defects=0\n",
    "    else:\n",
    "        siang_defects = result2.values[0]\n",
    "    \n",
    "    \n",
    "    # create a bar chart with two bars for each shift_dn\n",
    "    fig, ax = plt.subplots()\n",
    "    ax.bar(['Pagi', 'Siang'],[pagi_defects, siang_defects])\n",
    "    ax.set_title(f'Defects by Shift for {month}')\n",
    "    ax.set_xlabel('Shift')\n",
    "    ax.set_ylabel('Defects')\n",
    "    plt.show()"
   ]
  },
  {
   "cell_type": "code",
   "execution_count": null,
   "id": "d6553fac",
   "metadata": {},
   "outputs": [],
   "source": []
  },
  {
   "cell_type": "code",
   "execution_count": null,
   "id": "0b737d24",
   "metadata": {},
   "outputs": [],
   "source": []
  }
 ],
 "metadata": {
  "kernelspec": {
   "display_name": "Python 3 (ipykernel)",
   "language": "python",
   "name": "python3"
  },
  "language_info": {
   "codemirror_mode": {
    "name": "ipython",
    "version": 3
   },
   "file_extension": ".py",
   "mimetype": "text/x-python",
   "name": "python",
   "nbconvert_exporter": "python",
   "pygments_lexer": "ipython3",
   "version": "3.9.13"
  }
 },
 "nbformat": 4,
 "nbformat_minor": 5
}
